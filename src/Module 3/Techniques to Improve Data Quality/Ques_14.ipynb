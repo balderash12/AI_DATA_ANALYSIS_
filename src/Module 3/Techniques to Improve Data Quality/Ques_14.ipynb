{
 "cells": [
  {
   "cell_type": "code",
   "execution_count": 8,
   "metadata": {},
   "outputs": [
    {
     "ename": "SyntaxError",
     "evalue": "invalid syntax (3776657619.py, line 11)",
     "output_type": "error",
     "traceback": [
      "\u001b[0;36m  Cell \u001b[0;32mIn[8], line 11\u001b[0;36m\u001b[0m\n\u001b[0;31m    great_expectations init\u001b[0m\n\u001b[0m                       ^\u001b[0m\n\u001b[0;31mSyntaxError\u001b[0m\u001b[0;31m:\u001b[0m invalid syntax\n"
     ]
    }
   ],
   "source": [
    "# Activity 4: Data Quality Automation Tools\n",
    "\n",
    "# Task A: Using Great Expectations\n",
    "\n",
    "# 19. Setting Up Expectations:\n",
    "# - Install Great Expectations and set up a basic expectation suite.\n",
    "# - Validate a dataset and list unmet expectations.\n",
    "\n",
    "%pip install great_expectations\n",
    "\n",
    "great_expectations init\n",
    "great_expectations suite new\n",
    "great_expectations checkpoint new my_checkpoint\n",
    "\n",
    "\n",
    "\n",
    "\n",
    "# 20. Testing for Expectation:\n",
    "# - Create expectations such as “column values must fall within a certain range.”\n",
    "\n",
    "import great_expectations as gx\n",
    "\n",
    "context = gx.get_context()\n",
    "suite = context.get_expectation_suite(\"my_suite\")\n",
    "\n",
    "batch = context.get_batch({\n",
    "    \"datasource_name\": \"my_datasource\",\n",
    "    \"data_connector_name\": \"default_inferred_data_connector_name\",\n",
    "    \"data_asset_name\": \"my_data.csv\",\n",
    "    \"limit\": 1000,\n",
    "})\n",
    "\n",
    "batch.expect_column_values_to_be_between(\"age\", min_value=0, max_value=120)\n",
    "context.save_expectation_suite(suite)\n",
    "\n",
    "\n",
    "\n",
    "\n",
    "\n",
    "# 21. Generating Data Docs:\n",
    "# - Automatically generate data quality documentation.\n",
    "\n",
    "great_expectations docs build\n",
    "\n",
    "open great_expectations/uncommitted/data_docs/local_site/index.html\n",
    "\n",
    "\n",
    "\n",
    "\n"
   ]
  },
  {
   "cell_type": "code",
   "execution_count": null,
   "metadata": {},
   "outputs": [
    {
     "name": "stdout",
     "output_type": "stream",
     "text": [
      "Defaulting to user installation because normal site-packages is not writeable\n",
      "\u001b[31mERROR: Could not find a version that satisfies the requirement dq-labs (from versions: none)\u001b[0m\u001b[31m\n",
      "\u001b[0m\u001b[31mERROR: No matching distribution found for dq-labs\u001b[0m\u001b[31m\n",
      "\u001b[0m\n",
      "\u001b[1m[\u001b[0m\u001b[34;49mnotice\u001b[0m\u001b[1;39;49m]\u001b[0m\u001b[39;49m A new release of pip is available: \u001b[0m\u001b[31;49m23.0.1\u001b[0m\u001b[39;49m -> \u001b[0m\u001b[32;49m25.1.1\u001b[0m\n",
      "\u001b[1m[\u001b[0m\u001b[34;49mnotice\u001b[0m\u001b[1;39;49m]\u001b[0m\u001b[39;49m To update, run: \u001b[0m\u001b[32;49mpip install --upgrade pip\u001b[0m\n",
      "Note: you may need to restart the kernel to use updated packages.\n"
     ]
    },
    {
     "ename": "ModuleNotFoundError",
     "evalue": "No module named 'dq_labs'",
     "output_type": "error",
     "traceback": [
      "\u001b[0;31m---------------------------------------------------------------------------\u001b[0m",
      "\u001b[0;31mModuleNotFoundError\u001b[0m                       Traceback (most recent call last)",
      "Cell \u001b[0;32mIn[6], line 12\u001b[0m\n\u001b[1;32m      9\u001b[0m get_ipython()\u001b[38;5;241m.\u001b[39mrun_line_magic(\u001b[38;5;124m'\u001b[39m\u001b[38;5;124mpip\u001b[39m\u001b[38;5;124m'\u001b[39m, \u001b[38;5;124m'\u001b[39m\u001b[38;5;124minstall dq-labs\u001b[39m\u001b[38;5;124m'\u001b[39m)\n\u001b[1;32m     11\u001b[0m \u001b[38;5;66;03m# Import necessary modules\u001b[39;00m\n\u001b[0;32m---> 12\u001b[0m \u001b[38;5;28;01mimport\u001b[39;00m\u001b[38;5;250m \u001b[39m\u001b[38;5;21;01mdq_labs\u001b[39;00m\u001b[38;5;250m \u001b[39m\u001b[38;5;28;01mas\u001b[39;00m\u001b[38;5;250m \u001b[39m\u001b[38;5;21;01mdql\u001b[39;00m\n\u001b[1;32m     14\u001b[0m \u001b[38;5;66;03m# Initialize a new data quality project\u001b[39;00m\n\u001b[1;32m     15\u001b[0m project \u001b[38;5;241m=\u001b[39m dql\u001b[38;5;241m.\u001b[39mcreate_project(\u001b[38;5;124m\"\u001b[39m\u001b[38;5;124mMy_Data_Quality_Project\u001b[39m\u001b[38;5;124m\"\u001b[39m)\n",
      "\u001b[0;31mModuleNotFoundError\u001b[0m: No module named 'dq_labs'"
     ]
    }
   ],
   "source": [
    "# Task B: Using DQ Labs\n",
    "\n",
    "# 22. Tool Setup and Configuration:\n",
    "# - Download and configure DQ Labs on your local environment.\n",
    "# - Create a new data quality project.\n",
    "\n",
    "\n",
    "# Install DQ Labs (if available via pip)\n",
    "%pip install dq-labs\n",
    "\n",
    "# Import necessary modules\n",
    "import dq_labs as dql\n",
    "\n",
    "# Initialize a new data quality project\n",
    "project = dql.create_project(\"My_Data_Quality_Project\")\n",
    "\n",
    "\n",
    "# 23. Data Analysis Automation:\n",
    "# - Apply DQ Labs for automating data profiling and quality checks.\n",
    "\n",
    "# Load dataset for profiling\n",
    "data = dql.load_data(\"sample_dataset.csv\")\n",
    "\n",
    "# Generate profiling report\n",
    "profiling_report = dql.profile_data(data)\n",
    "\n",
    "# Run automated quality checks\n",
    "quality_checks = dql.run_quality_checks(data)\n",
    "\n",
    "# Display results\n",
    "print(profiling_report)\n",
    "print(quality_checks)\n",
    "\n",
    "\n",
    "\n",
    "\n",
    "\n",
    "\n",
    "# 24. Quality Rule Creation:\n",
    "# - Create quality rules for detecting and handling duplicates or enforcing standards.\n",
    "\n",
    "\n",
    "# Define rules\n",
    "rules = [\n",
    "    dql.create_rule(\"duplicate_check\", method=\"exact_match\"),\n",
    "    dql.create_rule(\"format_enforcement\", column=\"email\", pattern=r\"^[a-zA-Z0-9_.+-]+@[a-zA-Z0-9-]+\\.[a-zA-Z0-9-.]+$\")\n",
    "]\n",
    "\n",
    "# Apply rules on data\n",
    "results = dql.apply_rules(data, rules)\n",
    "\n",
    "# Display results\n",
    "print(results)\n",
    "\n",
    "\n",
    "\n",
    "\n",
    "\n",
    "\n"
   ]
  }
 ],
 "metadata": {
  "kernelspec": {
   "display_name": "Python 3",
   "language": "python",
   "name": "python3"
  },
  "language_info": {
   "codemirror_mode": {
    "name": "ipython",
    "version": 3
   },
   "file_extension": ".py",
   "mimetype": "text/x-python",
   "name": "python",
   "nbconvert_exporter": "python",
   "pygments_lexer": "ipython3",
   "version": "3.10.12"
  }
 },
 "nbformat": 4,
 "nbformat_minor": 2
}
