{
 "cells": [
  {
   "cell_type": "markdown",
   "metadata": {},
   "source": [
    "### Task 1: Measure Data Accuracy using a Trusted Source\n",
    "\n",
    "**Description**: You have two datasets of product prices: `company_prices.csv` and\n",
    "`trusted_prices.csv` . Check if the prices in `company_prices.csv` match the prices in\n",
    "`trusted_prices.csv` . Assume both files have a \"product_id\" and \"price\" column."
   ]
  },
  {
   "cell_type": "code",
   "execution_count": 1,
   "metadata": {},
   "outputs": [
    {
     "name": "stdout",
     "output_type": "stream",
     "text": [
      "Error: File not found - [Errno 2] No such file or directory: 'company_prices.csv'\n"
     ]
    }
   ],
   "source": [
    "import pandas as pd\n",
    "\n",
    "def compare_prices(company_file, trusted_file):\n",
    "    try:\n",
    "        # Step 1: Load the datasets (only necessary columns)\n",
    "        company_df = pd.read_csv(company_file, usecols=['product_id', 'price'])\n",
    "        trusted_df = pd.read_csv(trusted_file, usecols=['product_id', 'price'])\n",
    "\n",
    "        # Step 2: Merge the datasets on 'product_id'\n",
    "        merged_df = pd.merge(company_df, trusted_df, on='product_id', suffixes=('_company', '_trusted'))\n",
    "\n",
    "        # Step 3: Compare prices and identify mismatches\n",
    "        mismatches = merged_df[merged_df['price_company'] != merged_df['price_trusted']]\n",
    "\n",
    "        # Step 4: Output the results\n",
    "        if not mismatches.empty:\n",
    "            print(\"Discrepancies found in the following products:\")\n",
    "            print(mismatches[['product_id', 'price_company', 'price_trusted']])\n",
    "        else:\n",
    "            print(\"All prices match with the trusted source.\")\n",
    "        \n",
    "        # Assertion (testing coverage): Ensure the function works with test data\n",
    "        assert len(mismatches) >= 0, \"Mismatch rows calculation failed\"\n",
    "        \n",
    "    except FileNotFoundError as e:\n",
    "        print(f\"Error: File not found - {e}\")\n",
    "    except pd.errors.ParserError as e:\n",
    "        print(f\"Error: Parsing error - {e}\")\n",
    "    except Exception as e:\n",
    "        print(f\"An unexpected error occurred: {e}\")\n",
    "\n",
    "# Example usage:\n",
    "compare_prices('company_prices.csv', 'trusted_prices.csv')\n"
   ]
  },
  {
   "cell_type": "markdown",
   "metadata": {},
   "source": [
    "### Task 2: Detect Incorrect Values\n",
    "\n",
    "**Description**: In `company_prices.csv` , detect any negative price values which are incorrect values for prices."
   ]
  },
  {
   "cell_type": "code",
   "execution_count": 2,
   "metadata": {},
   "outputs": [
    {
     "name": "stdout",
     "output_type": "stream",
     "text": [
      "Error: File not found - [Errno 2] No such file or directory: 'company_prices.csv'\n"
     ]
    }
   ],
   "source": [
    "import pandas as pd\n",
    "\n",
    "def detect_negative_prices(company_file):\n",
    "    try:\n",
    "        # Step 1: Load the dataset (only necessary columns)\n",
    "        company_df = pd.read_csv(company_file, usecols=['product_id', 'price'])\n",
    "\n",
    "        # Step 2: Identify rows with negative price values\n",
    "        negative_prices = company_df[company_df['price'] < 0]\n",
    "\n",
    "        # Step 3: Output the incorrect values\n",
    "        if not negative_prices.empty:\n",
    "            print(\"Detected incorrect (negative) price values:\")\n",
    "            print(negative_prices[['product_id', 'price']])\n",
    "        else:\n",
    "            print(\"No incorrect price values found.\")\n",
    "        \n",
    "        # Assertion (testing coverage): Ensure that negative prices are detected correctly\n",
    "        assert len(negative_prices) >= 0, \"Negative price detection failed\"\n",
    "        \n",
    "    except FileNotFoundError as e:\n",
    "        print(f\"Error: File not found - {e}\")\n",
    "    except pd.errors.ParserError as e:\n",
    "        print(f\"Error: Parsing error - {e}\")\n",
    "    except Exception as e:\n",
    "        print(f\"An unexpected error occurred: {e}\")\n",
    "\n",
    "# Example usage:\n",
    "detect_negative_prices('company_prices.csv')\n"
   ]
  },
  {
   "cell_type": "markdown",
   "metadata": {},
   "source": [
    "### Task 3: Check Missing Data Rates\n",
    "\n",
    "**Description**: Calculate the percentage of missing values in `customer_data.csv` ."
   ]
  },
  {
   "cell_type": "code",
   "execution_count": 3,
   "metadata": {},
   "outputs": [
    {
     "name": "stdout",
     "output_type": "stream",
     "text": [
      "Error: File not found - [Errno 2] No such file or directory: 'customer_data.csv'\n"
     ]
    }
   ],
   "source": [
    "import pandas as pd\n",
    "\n",
    "def check_missing_data(customer_file):\n",
    "    try:\n",
    "        # Step 1: Load the dataset (only necessary columns)\n",
    "        customer_df = pd.read_csv(customer_file)\n",
    "\n",
    "        # Step 2: Calculate the number of missing values per column\n",
    "        missing_values = customer_df.isnull().sum()\n",
    "\n",
    "        # Step 3: Calculate the percentage of missing values per column\n",
    "        missing_percentage = (missing_values / len(customer_df)) * 100\n",
    "\n",
    "        # Step 4: Output the results\n",
    "        print(\"Percentage of missing values per column:\")\n",
    "        print(missing_percentage)\n",
    "        \n",
    "        # Assertion (testing coverage): Ensure missing percentage calculation works\n",
    "        assert missing_percentage.isnull().sum() == 0, \"Missing percentage calculation failed\"\n",
    "        \n",
    "    except FileNotFoundError as e:\n",
    "        print(f\"Error: File not found - {e}\")\n",
    "    except pd.errors.ParserError as e:\n",
    "        print(f\"Error: Parsing error - {e}\")\n",
    "    except Exception as e:\n",
    "        print(f\"An unexpected error occurred: {e}\")\n",
    "\n",
    "# Example usage:\n",
    "check_missing_data('customer_data.csv')\n"
   ]
  },
  {
   "cell_type": "markdown",
   "metadata": {},
   "source": [
    "### Task 4: Handling Partially Available Records\n",
    "\n",
    "**Description**: In `customer_data.csv` , identify records with missing \"email\" or \"phone number\" and decide whether to drop or fill them."
   ]
  },
  {
   "cell_type": "code",
   "execution_count": 4,
   "metadata": {},
   "outputs": [
    {
     "name": "stdout",
     "output_type": "stream",
     "text": [
      "Error: File not found - [Errno 2] No such file or directory: 'customer_data.csv'\n"
     ]
    }
   ],
   "source": [
    "import pandas as pd\n",
    "\n",
    "def handle_missing_contact_info(customer_file, drop=True):\n",
    "    try:\n",
    "        # Step 1: Load the dataset (only necessary columns)\n",
    "        customer_df = pd.read_csv(customer_file, usecols=['customer_id', 'name', 'email', 'phone'])\n",
    "\n",
    "        # Step 2: Identify records with missing 'email' or 'phone'\n",
    "        missing_contact_info = customer_df[customer_df['email'].isnull() | customer_df['phone'].isnull()]\n",
    "\n",
    "        # Step 3: Decide whether to drop or fill missing records\n",
    "        if drop:\n",
    "            cleaned_df = customer_df.dropna(subset=['email', 'phone'])\n",
    "            print(\"Dropped records with missing contact info:\")\n",
    "            print(cleaned_df)\n",
    "        else:\n",
    "            filled_df = customer_df.copy()\n",
    "            filled_df['email'].fillna('unknown@example.com', inplace=True)\n",
    "            filled_df['phone'].fillna('N/A', inplace=True)\n",
    "            print(\"Filled missing contact info with default values:\")\n",
    "            print(filled_df)\n",
    "\n",
    "        # Assertion (testing coverage): Ensure the handling method works (check no missing values left after filling)\n",
    "        assert filled_df['email'].isnull().sum() == 0, \"Email filling failed\"\n",
    "        assert filled_df['phone'].isnull().sum() == 0, \"Phone filling failed\"\n",
    "        \n",
    "    except FileNotFoundError as e:\n",
    "        print(f\"Error: File not found - {e}\")\n",
    "    except pd.errors.ParserError as e:\n",
    "        print(f\"Error: Parsing error - {e}\")\n",
    "    except Exception as e:\n",
    "        print(f\"An unexpected error occurred: {e}\")\n",
    "\n",
    "# Example usage:\n",
    "handle_missing_contact_info('customer_data.csv', drop=False)  # Change drop to True for dropping records\n"
   ]
  }
 ],
 "metadata": {
  "kernelspec": {
   "display_name": "Python 3",
   "language": "python",
   "name": "python3"
  },
  "language_info": {
   "codemirror_mode": {
    "name": "ipython",
    "version": 3
   },
   "file_extension": ".py",
   "mimetype": "text/x-python",
   "name": "python",
   "nbconvert_exporter": "python",
   "pygments_lexer": "ipython3",
   "version": "3.10.12"
  }
 },
 "nbformat": 4,
 "nbformat_minor": 2
}
